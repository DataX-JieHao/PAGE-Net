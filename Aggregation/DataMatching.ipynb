{
 "cells": [
  {
   "cell_type": "code",
   "execution_count": 11,
   "metadata": {},
   "outputs": [],
   "source": [
    "import pandas as pd\n"
   ]
  },
  {
   "cell_type": "code",
   "execution_count": 12,
   "metadata": {},
   "outputs": [],
   "source": [
    "X = pd.read_csv('split_9.csv')"
   ]
  },
  {
   "cell_type": "code",
   "execution_count": 13,
   "metadata": {},
   "outputs": [],
   "source": [
    "X1  = pd.read_csv('Aggergation_image9.csv')"
   ]
  },
  {
   "cell_type": "code",
   "execution_count": null,
   "metadata": {},
   "outputs": [],
   "source": []
  },
  {
   "cell_type": "code",
   "execution_count": 14,
   "metadata": {},
   "outputs": [
    {
     "data": {
      "text/plain": [
       "447"
      ]
     },
     "execution_count": 14,
     "metadata": {},
     "output_type": "execute_result"
    }
   ],
   "source": [
    "len(X)"
   ]
  },
  {
   "cell_type": "code",
   "execution_count": 15,
   "metadata": {},
   "outputs": [
    {
     "data": {
      "text/plain": [
       "'TCGA-14-0871-01'"
      ]
     },
     "execution_count": 15,
     "metadata": {},
     "output_type": "execute_result"
    }
   ],
   "source": [
    "X.values[0][0]"
   ]
  },
  {
   "cell_type": "code",
   "execution_count": 21,
   "metadata": {
    "scrolled": true
   },
   "outputs": [
    {
     "data": {
      "text/plain": [
       "['TCGA-08-0520-01',\n",
       " 'TCGA-14-1401-01',\n",
       " 'TCGA-02-0075-01',\n",
       " 'TCGA-08-0345-01',\n",
       " 'TCGA-06-0646-01',\n",
       " 'TCGA-27-1835-01',\n",
       " 'TCGA-28-1747-01',\n",
       " 'TCGA-02-0027-01',\n",
       " 'TCGA-27-2528-01',\n",
       " 'TCGA-76-4926-01',\n",
       " 'TCGA-02-0326-01',\n",
       " 'TCGA-02-0084-01',\n",
       " 'TCGA-27-2524-01',\n",
       " 'TCGA-06-0122-01',\n",
       " 'TCGA-28-1760-01',\n",
       " 'TCGA-06-0747-01',\n",
       " 'TCGA-16-1063-01',\n",
       " 'TCGA-14-3477-01',\n",
       " 'TCGA-28-1749-01',\n",
       " 'TCGA-02-0422-01',\n",
       " 'TCGA-12-3652-01',\n",
       " 'TCGA-32-2615-01',\n",
       " 'TCGA-14-4157-01',\n",
       " 'TCGA-32-2632-01',\n",
       " 'TCGA-28-2509-01',\n",
       " 'TCGA-32-2638-01',\n",
       " 'TCGA-08-0352-01',\n",
       " 'TCGA-14-0866-01',\n",
       " 'TCGA-06-0649-01',\n",
       " 'TCGA-08-0244-01',\n",
       " 'TCGA-19-5959-01',\n",
       " 'TCGA-12-0780-01',\n",
       " 'TCGA-28-5213-01',\n",
       " 'TCGA-15-0742-01',\n",
       " 'TCGA-06-2564-01',\n",
       " 'TCGA-06-0130-01',\n",
       " 'TCGA-19-2620-01',\n",
       " 'TCGA-14-0736-01',\n",
       " 'TCGA-02-0338-01',\n",
       " 'TCGA-15-1449-01',\n",
       " 'TCGA-12-0619-01',\n",
       " 'TCGA-06-1084-01',\n",
       " 'TCGA-06-0216-01',\n",
       " 'TCGA-12-1088-01',\n",
       " 'TCGA-06-5412-01']"
      ]
     },
     "execution_count": 21,
     "metadata": {},
     "output_type": "execute_result"
    }
   ],
   "source": [
    "Train_index = []\n",
    "for i in range(len(X)):\n",
    "    if X.values[i][2] == 'Valid':\n",
    "#         print(X.values[i][0],X1.values[i][-1])\n",
    "        Train_index.append(X.values[i][0])\n",
    "        \n",
    "Train_index   "
   ]
  },
  {
   "cell_type": "code",
   "execution_count": 22,
   "metadata": {},
   "outputs": [],
   "source": [
    "Train_list = []\n",
    "new_index = []\n",
    "for j in range(len(X1)):\n",
    "    if X1.values[j][-1] in Train_index:\n",
    "        new_index.append(X1.values[j][-1])\n",
    "        Train_list.append(X1.values[j])\n",
    "        "
   ]
  },
  {
   "cell_type": "code",
   "execution_count": 23,
   "metadata": {},
   "outputs": [
    {
     "data": {
      "text/plain": [
       "set()"
      ]
     },
     "execution_count": 23,
     "metadata": {},
     "output_type": "execute_result"
    }
   ],
   "source": [
    "\n",
    "set(Train_index) - set(new_index)"
   ]
  },
  {
   "cell_type": "code",
   "execution_count": 24,
   "metadata": {},
   "outputs": [],
   "source": [
    "Train_listdf = pd.DataFrame(Train_list)"
   ]
  },
  {
   "cell_type": "code",
   "execution_count": 25,
   "metadata": {},
   "outputs": [],
   "source": [
    "Train_listdf.to_csv('std_valid_image_9_new.csv')"
   ]
  },
  {
   "cell_type": "code",
   "execution_count": null,
   "metadata": {},
   "outputs": [],
   "source": []
  },
  {
   "cell_type": "code",
   "execution_count": null,
   "metadata": {},
   "outputs": [],
   "source": []
  }
 ],
 "metadata": {
  "kernelspec": {
   "display_name": "Python 3",
   "language": "python",
   "name": "python3"
  },
  "language_info": {
   "codemirror_mode": {
    "name": "ipython",
    "version": 3
   },
   "file_extension": ".py",
   "mimetype": "text/x-python",
   "name": "python",
   "nbconvert_exporter": "python",
   "pygments_lexer": "ipython3",
   "version": "3.7.3"
  }
 },
 "nbformat": 4,
 "nbformat_minor": 2
}
